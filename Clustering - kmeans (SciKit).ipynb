{
 "cells": [
  {
   "cell_type": "markdown",
   "id": "62a62308",
   "metadata": {},
   "source": [
    "<h1><center>Plan</center></h1>\n",
    "\n",
    "| <h2>Classification</h2> | <h2>Regression</h2> | <h2>Clustering</h2> |\n",
    "| :- | :- | :- |\n",
    "| Neural network (MLP) DONE | Decision tree (LightGBM) DONE | PCA and k-means DONE |\n",
    "| Decision tree (LightGBM) DONE | Neural network (MLP) DONE |  |\n",
    "| kNN DONE| kNN DONE |  |\n",
    "\n"
   ]
  },
  {
   "cell_type": "markdown",
   "id": "278955ed",
   "metadata": {},
   "source": [
    "# Load the training data"
   ]
  },
  {
   "cell_type": "code",
   "execution_count": 1,
   "id": "c93ca5d3",
   "metadata": {},
   "outputs": [],
   "source": [
    "import numpy as np\n",
    "import pandas as pd\n",
    "import h5py\n",
    "import matplotlib.pyplot as plt\n",
    "from sklearn.model_selection import train_test_split\n",
    "from sklearn.preprocessing import StandardScaler\n",
    "from sklearn.metrics import accuracy_score"
   ]
  },
  {
   "cell_type": "code",
   "execution_count": 2,
   "id": "8dc38d99",
   "metadata": {},
   "outputs": [],
   "source": [
    "def load_data(name):\n",
    "    with h5py.File(f'{name}.h5', 'r') as f:\n",
    "        return pd.DataFrame(f[name][:])\n",
    "\n",
    "train = load_data('train')\n",
    "\n",
    "best_features = ['p_sigmad0',\n",
    " 'p_ethad',\n",
    " 'p_Rhad',\n",
    " 'p_Rphi',\n",
    " 'p_Reta',\n",
    " 'p_deltaEta1',\n",
    " 'p_nTracks',\n",
    " 'p_ambiguityType',\n",
    " 'p_deltaPhiRescaled2',\n",
    " 'p_d0']\n",
    "\n",
    "train_variables = train[best_features]\n",
    "train_energy = train['p_truth_E']\n",
    "train_class = train['Truth']\n",
    "\n",
    "#scale data\n",
    "transformer = StandardScaler().fit(train_variables)\n",
    "train_variables = pd.DataFrame(transformer.transform(train_variables), columns=train_variables.columns\n",
    ")"
   ]
  },
  {
   "cell_type": "markdown",
   "id": "dbfebc11",
   "metadata": {},
   "source": [
    "# PCA "
   ]
  },
  {
   "cell_type": "code",
   "execution_count": 3,
   "id": "4f7e7450",
   "metadata": {},
   "outputs": [
    {
     "name": "stdout",
     "output_type": "stream",
     "text": [
      "Cumulative variance explained by 2 principal components: 41.76%\n"
     ]
    }
   ],
   "source": [
    "#define pca model\n",
    "from sklearn.decomposition import PCA \n",
    "\n",
    "pca_transformer = PCA(n_components=2)\n",
    "train_variables_2d = pd.DataFrame(pca_transformer.fit_transform(train_variables))\n",
    "\n",
    "print('Cumulative variance explained by 2 principal components: {:.2%}'.format(np.sum(pca_transformer.explained_variance_ratio_)))"
   ]
  },
  {
   "cell_type": "code",
   "execution_count": 4,
   "id": "9eb96c59",
   "metadata": {},
   "outputs": [
    {
     "data": {
      "image/png": "[encoded data removed]",
      "text/plain": [
       "<Figure size 432x288 with 1 Axes>"
      ]
     },
     "metadata": {
      "needs_background": "light"
     },
     "output_type": "display_data"
    }
   ],
   "source": [
    "#visualise in 2D\n",
    "electrons = train_variables_2d[train['Truth'] == True]\n",
    "non_electrons = train_variables_2d[train['Truth'] == False]\n",
    "\n",
    "plt.figure()\n",
    "plt.scatter(non_electrons[0], non_electrons[1], c='skyblue', label='non-electrons')\n",
    "plt.scatter(electrons[0], electrons[1], c='pink', label='electrons')\n",
    "plt.legend()\n",
    "plt.xlabel('PC1')\n",
    "plt.ylabel('PC2')\n",
    "plt.show()"
   ]
  },
  {
   "cell_type": "markdown",
   "id": "0ef189bc",
   "metadata": {},
   "source": [
    "# Clustering\n",
    "### K-Means "
   ]
  },
  {
   "cell_type": "code",
   "execution_count": 5,
   "id": "8080741b",
   "metadata": {},
   "outputs": [],
   "source": [
    "#define model\n",
    "from sklearn.cluster import KMeans\n",
    "model = KMeans(n_clusters=3, random_state=42)\n",
    "model.fit(train_variables_2d) #fit on 2 dimensions\n",
    "clusters = pd.DataFrame(model.labels_, columns=['Cluster'])"
   ]
  },
  {
   "cell_type": "code",
   "execution_count": 6,
   "id": "25169d1e",
   "metadata": {},
   "outputs": [
    {
     "data": {
      "image/png": "[encoded data removed]",
      "text/plain": [
       "<Figure size 432x288 with 1 Axes>"
      ]
     },
     "metadata": {
      "needs_background": "light"
     },
     "output_type": "display_data"
    }
   ],
   "source": [
    "clust0 = clusters.loc[clusters['Cluster'] == 0].index #91.0% electrons (124092 points)\n",
    "clust1 = clusters.loc[clusters['Cluster'] == 1].index #35.7% electrons (24067 points)\n",
    "clust2 = clusters.loc[clusters['Cluster'] == 2].index #99.8% non-electrons (14341 points)\n",
    "\n",
    "#visualise in 2D\n",
    "plt.figure()\n",
    "plt.scatter(train_variables_2d.to_numpy()[clust0][:,0], train_variables_2d.to_numpy()[clust0][:,1], c='skyblue', label='cluster 0')\n",
    "plt.scatter(train_variables_2d.to_numpy()[clust1][:,0], train_variables_2d.to_numpy()[clust1][:,1], c='palegreen', label='cluster 1')\n",
    "plt.scatter(train_variables_2d.to_numpy()[clust2][:,0], train_variables_2d.to_numpy()[clust2][:,1], c='deeppink', label='cluster 2')\n",
    "plt.legend()\n",
    "plt.xlabel('PC1')\n",
    "plt.ylabel('PC2')\n",
    "plt.show()"
   ]
  },
  {
   "cell_type": "code",
   "execution_count": 8,
   "id": "68304205",
   "metadata": {},
   "outputs": [
    {
     "name": "stdout",
     "output_type": "stream",
     "text": [
      "Cluster 0\n",
      "\n",
      "Electrons\t: 112873 (90.96%)\n",
      "Non-electrons\t: 11219 (9.04%)\n",
      "----------------\n",
      "\n",
      "Cluster 1\n",
      "\n",
      "Electrons\t: 8599 (35.73%)\n",
      "Non-electrons\t: 15468 (64.27%)\n",
      "----------------\n",
      "\n",
      "Cluster 2\n",
      "\n",
      "Electrons\t: 23 (0.16%)\n",
      "Non-electrons\t: 14318 (99.84%)\n",
      "----------------\n",
      "\n",
      "Summary\n",
      "\n",
      "Correct predictions\t: 142659 (87.79%)\n",
      "Incorrect predictions\t: 19841 (12.21%)\n",
      "\n"
     ]
    }
   ],
   "source": [
    "#accuracy of predicted classes\n",
    "from collections import Counter\n",
    "\n",
    "y_pred = clusters.to_numpy()[:,0]\n",
    "\n",
    "correct = 0\n",
    "incorrect = 0\n",
    "for cluster in range(3):\n",
    "    cluster_content = Counter(train_class[y_pred==cluster])\n",
    "    print(f'Cluster {cluster}\\n\\nElectrons\\t: {cluster_content[1]} ({cluster_content[1]/(cluster_content[1]+cluster_content[0]):.2%})\\nNon-electrons\\t: {cluster_content[0]} ({cluster_content[0]/(cluster_content[1]+cluster_content[0]):.2%})\\n----------------\\n')\n",
    "    if cluster_content[1] > cluster_content[0]:\n",
    "        correct += cluster_content[1]\n",
    "        incorrect += cluster_content[0]\n",
    "    elif cluster_content[1] < cluster_content[0]:\n",
    "        correct += cluster_content[0]\n",
    "        incorrect += cluster_content[1]\n",
    "print(f'Summary\\n\\nCorrect predictions\\t: {correct} ({correct/(correct+incorrect):.2%})\\nIncorrect predictions\\t: {incorrect} ({incorrect/(correct+incorrect):.2%})\\n')\n"
   ]
  },
  {
   "cell_type": "markdown",
   "id": "e3e0be23",
   "metadata": {},
   "source": [
    "# Test data"
   ]
  },
  {
   "cell_type": "code",
   "execution_count": 9,
   "id": "e03cc714",
   "metadata": {},
   "outputs": [
    {
     "name": "stdout",
     "output_type": "stream",
     "text": [
      "Cumulative variance explained by 2 principal components: 42.11%\n"
     ]
    }
   ],
   "source": [
    "#load and scale test data\n",
    "test = load_data('test')\n",
    "\n",
    "#only use 10 best features \n",
    "test_variables = test[best_features]\n",
    "\n",
    "#scale data\n",
    "transformer = StandardScaler().fit(test_variables)\n",
    "test_variables = pd.DataFrame(transformer.transform(test_variables), columns=test_variables.columns)\n",
    "\n",
    "#perform pca on test data\n",
    "test_variables_2d = pd.DataFrame(pca_transformer.fit_transform(test_variables))\n",
    "print('Cumulative variance explained by 2 principal components: {:.2%}'.format(np.sum(pca_transformer.explained_variance_ratio_)))"
   ]
  },
  {
   "cell_type": "code",
   "execution_count": 10,
   "id": "ed6783ea",
   "metadata": {},
   "outputs": [],
   "source": [
    "#apply model to test data\n",
    "model = KMeans(n_clusters=3, random_state=42)\n",
    "model.fit(test_variables_2d)\n",
    "clusters = pd.DataFrame(model.labels_, columns=['Cluster'])\n",
    "\n",
    "#export as csv\n",
    "# clusters.to_csv('predicted_cluster_kmeans.csv', header=False)"
   ]
  }
 ],
 "metadata": {
  "kernelspec": {
   "display_name": "Python 3",
   "language": "python",
   "name": "python3"
  },
  "language_info": {
   "codemirror_mode": {
    "name": "ipython",
    "version": 3
   },
   "file_extension": ".py",
   "mimetype": "text/x-python",
   "name": "python",
   "nbconvert_exporter": "python",
   "pygments_lexer": "ipython3",
   "version": "3.7.1"
  }
 },
 "nbformat": 4,
 "nbformat_minor": 5
}
