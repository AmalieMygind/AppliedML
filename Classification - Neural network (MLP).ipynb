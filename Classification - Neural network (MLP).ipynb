{
 "cells": [
  {
   "cell_type": "markdown",
   "id": "6c6234c2",
   "metadata": {},
   "source": [
    "<h1><center>Plan</center></h1>\n",
    "\n",
    "| <h2>Classification</h2> | <h2>Regression</h2> | <h2>Clustering</h2> |\n",
    "| :- | :- | :- |\n",
    "| Neural network (MLP) DONE | Decision tree (LightGBM) DONE | PCA and k-means DONE |\n",
    "| Decision tree (LightGBM) DONE | Neural network (MLP) DONE |  |\n",
    "| kNN DONE| kNN DONE |  |\n",
    "\n"
   ]
  },
  {
   "cell_type": "markdown",
   "id": "1ac9bed3",
   "metadata": {},
   "source": [
    "# Load the training data"
   ]
  },
  {
   "cell_type": "code",
   "execution_count": 1,
   "id": "e72066fc",
   "metadata": {},
   "outputs": [],
   "source": [
    "import numpy as np\n",
    "import pandas as pd\n",
    "import h5py\n",
    "import matplotlib.pyplot as plt\n",
    "from sklearn.model_selection import train_test_split\n",
    "from sklearn.preprocessing import RobustScaler"
   ]
  },
  {
   "cell_type": "code",
   "execution_count": 2,
   "id": "522f02f3",
   "metadata": {},
   "outputs": [],
   "source": [
    "def load_data(name):\n",
    "    with h5py.File(f'{name}.h5', 'r') as f:\n",
    "        return pd.DataFrame(f[name][:])\n",
    "\n",
    "train = load_data('train')\n",
    "\n",
    "#only use 25 best features from SHAP on decision tree\n",
    "best_features = ['p_sigmad0',\n",
    " 'p_ethad',\n",
    " 'p_Rhad',\n",
    " 'p_Rphi',\n",
    " 'p_Reta',\n",
    " 'p_deltaEta1',\n",
    " 'p_nTracks',\n",
    " 'p_ambiguityType',\n",
    " 'p_deltaPhiRescaled2',\n",
    " 'p_d0',\n",
    " 'p_Rhad1',\n",
    " 'p_ptconecoreTrackPtrCorrection',\n",
    " 'p_E7x11_Lr3',\n",
    " 'p_d0Sig',\n",
    " 'p_Eratio',\n",
    " 'p_numberOfInnermostPixelHits',\n",
    " 'p_numberOfPixelHits',\n",
    " 'p_ehad1',\n",
    " 'p_ethad1',\n",
    " 'p_TRTPID',\n",
    " 'p_weta2',\n",
    " 'p_EptRatio',\n",
    " 'p_numberOfSCTHits',\n",
    " 'p_deltaPhi2',\n",
    " 'p_deltaPhiFromLastMeasurement']\n",
    "\n",
    "train_variables = train[best_features]\n",
    "train_energy = train['p_truth_E']\n",
    "train_class = train['Truth']\n",
    "\n",
    "#scale data\n",
    "transformer = RobustScaler().fit(train_variables)\n",
    "train_variables = pd.DataFrame(transformer.transform(train_variables), columns=train_variables.columns\n",
    ")"
   ]
  },
  {
   "cell_type": "markdown",
   "id": "c0750a24",
   "metadata": {},
   "source": [
    "# Classification\n"
   ]
  },
  {
   "cell_type": "markdown",
   "id": "b09497ed",
   "metadata": {},
   "source": [
    "### Neural network (MLP)"
   ]
  },
  {
   "cell_type": "code",
   "execution_count": 3,
   "id": "8e6e5919",
   "metadata": {},
   "outputs": [],
   "source": [
    "#define model\n",
    "from sklearn.neural_network import MLPClassifier\n",
    "clf = MLPClassifier(random_state=42, max_iter=200)"
   ]
  },
  {
   "cell_type": "code",
   "execution_count": 4,
   "id": "5e889c21",
   "metadata": {},
   "outputs": [],
   "source": [
    "#split data into training and validation\n",
    "x_train, x_val, y_train, y_val = train_test_split(train_variables, train_class, test_size=0.3, random_state=42)"
   ]
  },
  {
   "cell_type": "code",
   "execution_count": 5,
   "id": "28464864",
   "metadata": {},
   "outputs": [],
   "source": [
    "#hyperparameter search\n",
    "from sklearn.model_selection import RandomizedSearchCV\n",
    "\n",
    "search_params = {'hidden_layer_sizes': [(15,30,15), (30,30), (40,60), (10,10,10), (100,)],\n",
    "    'activation': ['tanh', 'relu'],\n",
    "    'solver': ['sgd', 'adam']}\n",
    "\n",
    "random_search = RandomizedSearchCV(clf, search_params, n_iter=20, cv=3, return_train_score=True, random_state=42, n_jobs=-1)\n",
    "random_search.fit(x_train, y_train)\n",
    "\n",
    "print('Best parameters: ', random_search.best_params_ , 'Best score: ', random_search.best_score_)"
   ]
  },
  {
   "cell_type": "code",
   "execution_count": 6,
   "id": "32e9544a",
   "metadata": {},
   "outputs": [
    {
     "name": "stdout",
     "output_type": "stream",
     "text": [
      "MLPClassifier accuracy 0.9369025641025641\n"
     ]
    }
   ],
   "source": [
    "#train optimized model\n",
    "from sklearn.metrics import accuracy_score\n",
    "\n",
    "clf_opt = MLPClassifier(random_state=42, max_iter=200, solver='sgd', hidden_layer_sizes=(100,), activation='tanh')\n",
    "clf_opt.fit(x_train, y_train)\n",
    "y_pred_prob = clf_opt.predict_proba(x_val)\n",
    "y_pred = clf_opt.predict(x_val)\n",
    "acc = accuracy_score(y_val, y_pred)\n",
    "print('MLPClassifier accuracy '+str(acc))"
   ]
  },
  {
   "cell_type": "markdown",
   "id": "f9a04850",
   "metadata": {},
   "source": [
    "# Test data"
   ]
  },
  {
   "cell_type": "code",
   "execution_count": 7,
   "id": "f20018f9",
   "metadata": {},
   "outputs": [],
   "source": [
    "#load test set\n",
    "test = load_data('test')\n",
    "test_variables = test[best_features]\n",
    "\n",
    "#scale test data\n",
    "transformer = RobustScaler().fit(test_variables)\n",
    "test_variables = pd.DataFrame(transformer.transform(test_variables), columns=test_variables.columns\n",
    ")"
   ]
  },
  {
   "cell_type": "code",
   "execution_count": 8,
   "id": "dd3ab638",
   "metadata": {},
   "outputs": [],
   "source": [
    "#use model on test data\n",
    "y_pred_prob = pd.DataFrame(clf_opt.predict_proba(test_variables)[:,1])\n",
    "\n",
    "#export to csv\n",
    "# y_pred_prob.to_csv('predicted_classes_MLPClassifier.csv', header=False)"
   ]
  }
 ],
 "metadata": {
  "kernelspec": {
   "display_name": "Python 3",
   "language": "python",
   "name": "python3"
  },
  "language_info": {
   "codemirror_mode": {
    "name": "ipython",
    "version": 3
   },
   "file_extension": ".py",
   "mimetype": "text/x-python",
   "name": "python",
   "nbconvert_exporter": "python",
   "pygments_lexer": "ipython3",
   "version": "3.7.1"
  }
 },
 "nbformat": 4,
 "nbformat_minor": 5
}
