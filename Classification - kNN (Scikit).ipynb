{
 "cells": [
  {
   "cell_type": "markdown",
   "id": "5da7d536",
   "metadata": {},
   "source": [
    "<h1><center>Plan</center></h1>\n",
    "\n",
    "| <h2>Classification</h2> | <h2>Regression</h2> | <h2>Clustering</h2> |\n",
    "| :- | :- | :- |\n",
    "| Neural network (MLP) DONE | Decision tree (LightGBM) DONE | PCA and k-means DONE |\n",
    "| Decision tree (LightGBM) DONE | Neural network (MLP) DONE |  |\n",
    "| kNN DONE| kNN DONE |  |\n",
    "\n"
   ]
  },
  {
   "cell_type": "markdown",
   "id": "cc0ebce8",
   "metadata": {},
   "source": [
    "# Load the training data"
   ]
  },
  {
   "cell_type": "code",
   "execution_count": 1,
   "id": "46cc9772",
   "metadata": {},
   "outputs": [],
   "source": [
    "import numpy as np\n",
    "import pandas as pd\n",
    "import h5py\n",
    "import matplotlib.pyplot as plt\n",
    "from sklearn.model_selection import train_test_split\n",
    "from sklearn.preprocessing import RobustScaler"
   ]
  },
  {
   "cell_type": "code",
   "execution_count": 2,
   "id": "f85af95d",
   "metadata": {},
   "outputs": [],
   "source": [
    "def load_data(name):\n",
    "    with h5py.File(f'{name}.h5', 'r') as f:\n",
    "        return pd.DataFrame(f[name][:])\n",
    "\n",
    "train = load_data('train')\n",
    "\n",
    "#only use 6 features (curse of dimensionality)\n",
    "best_features = ['p_sigmad0',\n",
    " 'p_ethad',\n",
    " 'p_Rhad',\n",
    " 'p_Rphi',\n",
    " 'p_Reta',\n",
    " 'p_deltaEta1']\n",
    "\n",
    "\n",
    "train_variables = train[best_features]\n",
    "train_energy = train['p_truth_E']\n",
    "train_class = train['Truth']\n",
    "\n",
    "#scale data\n",
    "transformer = RobustScaler().fit(train_variables)\n",
    "train_variables = pd.DataFrame(transformer.transform(train_variables), columns=train_variables.columns\n",
    ")"
   ]
  },
  {
   "cell_type": "markdown",
   "id": "2d57e0b7",
   "metadata": {},
   "source": [
    "# Classification\n",
    "\n",
    "### kNN (SciKit-learn)"
   ]
  },
  {
   "cell_type": "code",
   "execution_count": 3,
   "id": "21ae9d95",
   "metadata": {},
   "outputs": [],
   "source": [
    "#find optimal k\n",
    "from sklearn.neighbors import KNeighborsClassifier as kNN\n",
    "from sklearn.metrics import accuracy_score\n",
    "from sklearn.model_selection import KFold\n",
    "\n",
    "ks = [11, 13, 15, 17]\n",
    "k_acc = []\n",
    "for k in ks: \n",
    "    fold_acc = []\n",
    "    \n",
    "    cv = KFold(n_splits=5)\n",
    "    for train_index, validation_index in cv.split(train_variables.to_numpy()):\n",
    "        \n",
    "        #define training and validation sets for each fold\n",
    "        x_trainCV, x_valCV, y_trainCV, y_valCV = train_variables.to_numpy()[train_index], train_variables.to_numpy()[validation_index], train_class.to_numpy()[train_index], train_class.to_numpy()[validation_index]\n",
    "\n",
    "        #train kNN model on training set\n",
    "        neigh = kNN(n_neighbors=k)\n",
    "        neigh.fit(x_trainCV, y_trainCV)\n",
    "        \n",
    "        #append accuracy for each fold\n",
    "        y_pred = neigh.predict(x_valCV)\n",
    "        acc = accuracy_score(y_pred, y_valCV)\n",
    "        fold_acc.append(acc)\n",
    "   \n",
    "    #append mean accuracy for each leaf number    \n",
    "    k_acc.append(np.mean(fold_acc))\n",
    "\n",
    "plt.scatter(ks, k_acc)\n",
    "plt.show()\n",
    "\n",
    "# #15 seems to be the best k"
   ]
  },
  {
   "cell_type": "code",
   "execution_count": 4,
   "id": "6e327276",
   "metadata": {},
   "outputs": [
    {
     "name": "stdout",
     "output_type": "stream",
     "text": [
      "kNN accuracy score:0.9223589743589744\n"
     ]
    }
   ],
   "source": [
    "#use optimal k \n",
    "x_train, x_val, y_train, y_val = train_test_split(train_variables, train_class, test_size=0.3, random_state=42)\n",
    "\n",
    "neigh = kNN(n_neighbors=15)\n",
    "neigh.fit(x_train, y_train)\n",
    "y_pred = neigh.predict(x_val)\n",
    "acc = accuracy_score(y_pred, y_val)\n",
    "y_pred_prob = neigh.predict_proba(x_val)\n",
    "print('kNN accuracy score:'+str(acc))"
   ]
  },
  {
   "cell_type": "markdown",
   "id": "5880c8db",
   "metadata": {},
   "source": [
    "# Test data"
   ]
  },
  {
   "cell_type": "code",
   "execution_count": 5,
   "id": "10c108f1",
   "metadata": {},
   "outputs": [],
   "source": [
    "#load test set\n",
    "test = load_data('test')\n",
    "test_variables = test[best_features]\n",
    "\n",
    "#scale test data\n",
    "transformer = RobustScaler().fit(test_variables)\n",
    "test_variables = pd.DataFrame(transformer.transform(test_variables), columns=test_variables.columns\n",
    ")"
   ]
  },
  {
   "cell_type": "code",
   "execution_count": 7,
   "id": "dfd08c52",
   "metadata": {},
   "outputs": [],
   "source": [
    "#use model on test data\n",
    "y_pred_prob = pd.DataFrame(neigh.predict_proba(test_variables)[:,1])\n",
    "\n",
    "#export to csv\n",
    "# y_pred_prob.to_csv('predicted_classes_kNN.csv', header=False)"
   ]
  }
 ],
 "metadata": {
  "kernelspec": {
   "display_name": "Python 3",
   "language": "python",
   "name": "python3"
  },
  "language_info": {
   "codemirror_mode": {
    "name": "ipython",
    "version": 3
   },
   "file_extension": ".py",
   "mimetype": "text/x-python",
   "name": "python",
   "nbconvert_exporter": "python",
   "pygments_lexer": "ipython3",
   "version": "3.7.1"
  }
 },
 "nbformat": 4,
 "nbformat_minor": 5
}
