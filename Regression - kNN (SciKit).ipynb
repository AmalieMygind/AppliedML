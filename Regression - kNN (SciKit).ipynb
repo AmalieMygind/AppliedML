{
 "cells": [
  {
   "cell_type": "markdown",
   "id": "2e0d8b2c",
   "metadata": {},
   "source": [
    "<h1><center>Plan</center></h1>\n",
    "\n",
    "| <h2>Classification</h2> | <h2>Regression</h2> | <h2>Clustering</h2> |\n",
    "| :- | :- | :- |\n",
    "| Neural network (MLP) DONE | Decision tree (LightGBM) DONE | PCA and k-means DONE |\n",
    "| Decision tree (LightGBM) DONE | Neural network (MLP) DONE |  |\n",
    "| kNN DONE| kNN DONE |  |\n",
    "\n"
   ]
  },
  {
   "cell_type": "markdown",
   "id": "ee0f1638",
   "metadata": {},
   "source": [
    "# Load the training data"
   ]
  },
  {
   "cell_type": "code",
   "execution_count": 1,
   "id": "d83ec2e1",
   "metadata": {},
   "outputs": [],
   "source": [
    "import numpy as np\n",
    "import pandas as pd\n",
    "import h5py\n",
    "import matplotlib.pyplot as plt\n",
    "from sklearn.model_selection import train_test_split\n",
    "from sklearn.preprocessing import RobustScaler"
   ]
  },
  {
   "cell_type": "code",
   "execution_count": 3,
   "id": "fd9b154d",
   "metadata": {},
   "outputs": [],
   "source": [
    "def load_data(name):\n",
    "    with h5py.File(f'{name}.h5', 'r') as f:\n",
    "        return pd.DataFrame(f[name][:])\n",
    "\n",
    "train = load_data('train')\n",
    "\n",
    "#only consider actual electrons\n",
    "electrons = train[train['Truth'] == True]\n",
    "\n",
    "#only use 6 best features (curse of dimensionality)\n",
    "best_features = ['p_eCluster',\n",
    " 'p_eAccCluster',\n",
    " 'p_ecore',\n",
    " 'p_E3x5_Lr1',\n",
    " 'p_rawECluster',\n",
    " 'p_nCells_Lr1_HiG']\n",
    "\n",
    "train_variables = electrons[best_features]\n",
    "train_energy = electrons['p_truth_E']\n",
    "train_class = electrons['Truth']\n",
    "\n",
    "#scale data\n",
    "transformer = RobustScaler().fit(train_variables)\n",
    "train_variables = pd.DataFrame(transformer.transform(train_variables), columns=train_variables.columns\n",
    ")"
   ]
  },
  {
   "cell_type": "markdown",
   "id": "cb7b4b2f",
   "metadata": {},
   "source": [
    "# Regression\n",
    "\n",
    "### kNN (SciKit-learn)"
   ]
  },
  {
   "cell_type": "code",
   "execution_count": 4,
   "id": "4da207a0",
   "metadata": {},
   "outputs": [],
   "source": [
    "#define error function\n",
    "def mape(pred, true):\n",
    "    diffs = abs((true-pred)/true)\n",
    "    \n",
    "    return (sum(diffs))/len(pred)"
   ]
  },
  {
   "cell_type": "code",
   "execution_count": 14,
   "id": "b033f887",
   "metadata": {},
   "outputs": [
    {
     "data": {
      "image/png": "[encoded data removed]",
      "text/plain": [
       "<Figure size 432x288 with 1 Axes>"
      ]
     },
     "metadata": {
      "needs_background": "light"
     },
     "output_type": "display_data"
    }
   ],
   "source": [
    "#find optimal k\n",
    "from sklearn.neighbors import KNeighborsRegressor as kNN\n",
    "from sklearn.model_selection import KFold\n",
    "\n",
    "ks = [101,103,105]\n",
    "k_error = []\n",
    "for k in ks: \n",
    "    fold_error = []\n",
    "    \n",
    "    cv = KFold(n_splits=10)\n",
    "    for train_index, validation_index in cv.split(train_variables.to_numpy()):\n",
    "        \n",
    "        #define training and validation sets for each fold\n",
    "        x_trainCV, x_valCV, y_trainCV, y_valCV = train_variables.to_numpy()[train_index], train_variables.to_numpy()[validation_index], train_energy.to_numpy()[train_index], train_energy.to_numpy()[validation_index]\n",
    "\n",
    "        #train kNN model on training set\n",
    "        neigh = kNN(n_neighbors=k)\n",
    "        neigh.fit(x_trainCV, y_trainCV)\n",
    "        \n",
    "        #append accuracy for each fold\n",
    "        y_pred = neigh.predict(x_valCV)\n",
    "        error = mape(y_pred, y_valCV)\n",
    "        fold_error.append(error)\n",
    "   \n",
    "    #append mean accuracy for each leaf number    \n",
    "    k_error.append(np.mean(fold_error))\n",
    "    \n",
    "plt.scatter(ks, k_error)\n",
    "plt.show()\n",
    "\n",
    "#103 seems to be the best k"
   ]
  },
  {
   "cell_type": "code",
   "execution_count": 15,
   "id": "46a91a08",
   "metadata": {},
   "outputs": [
    {
     "name": "stdout",
     "output_type": "stream",
     "text": [
      "kNN MAPE:0.07990859732720648\n"
     ]
    }
   ],
   "source": [
    "#use optimal k \n",
    "x_train, x_val, y_train, y_val = train_test_split(train_variables, train_energy, test_size=0.3, random_state=42)\n",
    "\n",
    "neigh = kNN(n_neighbors=103)\n",
    "neigh.fit(x_train, y_train)\n",
    "y_pred = neigh.predict(x_val)\n",
    "error = mape(y_pred, y_val)\n",
    "print('kNN MAPE:'+str(error))"
   ]
  },
  {
   "cell_type": "markdown",
   "id": "d64ff6dd",
   "metadata": {},
   "source": [
    "# Test data"
   ]
  },
  {
   "cell_type": "code",
   "execution_count": 6,
   "id": "69db0ce9",
   "metadata": {},
   "outputs": [],
   "source": [
    "#load test set\n",
    "test = load_data('test')\n",
    "test_variables = test[best_features]\n",
    "\n",
    "#scale test data\n",
    "transformer = RobustScaler().fit(test_variables)\n",
    "test_variables = pd.DataFrame(transformer.transform(test_variables), columns=test_variables.columns\n",
    ")"
   ]
  },
  {
   "cell_type": "code",
   "execution_count": 8,
   "id": "09ac18ef",
   "metadata": {},
   "outputs": [],
   "source": [
    "#use model on test data\n",
    "y_pred = pd.DataFrame(neigh.predict(test_variables))\n",
    "\n",
    "#export to csv\n",
    "# y_pred.to_csv('predicted_energies_kNN.csv', header=False)"
   ]
  }
 ],
 "metadata": {
  "kernelspec": {
   "display_name": "Python 3",
   "language": "python",
   "name": "python3"
  },
  "language_info": {
   "codemirror_mode": {
    "name": "ipython",
    "version": 3
   },
   "file_extension": ".py",
   "mimetype": "text/x-python",
   "name": "python",
   "nbconvert_exporter": "python",
   "pygments_lexer": "ipython3",
   "version": "3.7.1"
  }
 },
 "nbformat": 4,
 "nbformat_minor": 5
}
