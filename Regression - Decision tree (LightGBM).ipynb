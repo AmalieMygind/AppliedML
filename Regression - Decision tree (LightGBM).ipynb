{
 "cells": [
  {
   "cell_type": "markdown",
   "id": "36daf118",
   "metadata": {},
   "source": [
    "<h1><center>Plan</center></h1>\n",
    "\n",
    "| <h2>Classification</h2> | <h2>Regression</h2> | <h2>Clustering</h2> |\n",
    "| :- | :- | :- |\n",
    "| Neural network (MLP) DONE | Decision tree (LightGBM) DONE | PCA and k-means DONE |\n",
    "| Decision tree (LightGBM) DONE | Neural network (MLP) DONE |  |\n",
    "| kNN DONE| kNN DONE |  |\n",
    "\n"
   ]
  },
  {
   "cell_type": "markdown",
   "id": "471a831c",
   "metadata": {},
   "source": [
    "# Load the training data"
   ]
  },
  {
   "cell_type": "code",
   "execution_count": 1,
   "id": "2e9a1787",
   "metadata": {},
   "outputs": [],
   "source": [
    "import numpy as np\n",
    "import pandas as pd\n",
    "import h5py\n",
    "import matplotlib.pyplot as plt\n",
    "from sklearn.model_selection import train_test_split\n",
    "from sklearn.preprocessing import RobustScaler\n",
    "from sklearn.metrics import accuracy_score"
   ]
  },
  {
   "cell_type": "code",
   "execution_count": 2,
   "id": "7f53c2e6",
   "metadata": {},
   "outputs": [],
   "source": [
    "def load_data(name):\n",
    "    with h5py.File(f'{name}.h5', 'r') as f:\n",
    "        return pd.DataFrame(f[name][:])\n",
    "\n",
    "train = load_data('train')\n",
    "\n",
    "#only consider actual electrons\n",
    "electrons = train[train['Truth'] == True]\n",
    "\n",
    "all_variables = [\n",
    "        'actualInteractionsPerCrossing', 'averageInteractionsPerCrossing',\n",
    "        'correctedActualMu', 'correctedAverageMu', 'correctedScaledActualMu',\n",
    "        'correctedScaledAverageMu', 'NvtxReco', 'p_nTracks', 'p_pt_track',\n",
    "        'p_eta', 'p_phi', 'p_charge', 'p_qOverP', 'p_z0', 'p_d0', 'p_sigmad0',\n",
    "        'p_d0Sig', 'p_EptRatio', 'p_dPOverP', 'p_z0theta', 'p_etaCluster',\n",
    "        'p_phiCluster', 'p_eCluster', 'p_rawEtaCluster', 'p_rawPhiCluster',\n",
    "        'p_rawECluster', 'p_eClusterLr0', 'p_eClusterLr1', 'p_eClusterLr2',\n",
    "        'p_eClusterLr3', 'p_etaClusterLr1', 'p_etaClusterLr2',\n",
    "        'p_phiClusterLr2', 'p_eAccCluster', 'p_f0Cluster', 'p_etaCalo',\n",
    "        'p_phiCalo', 'p_eTileGap3Cluster', 'p_cellIndexCluster',\n",
    "        'p_phiModCalo', 'p_etaModCalo', 'p_dPhiTH3', 'p_R12', 'p_fTG3',\n",
    "        'p_weta2', 'p_Reta', 'p_Rphi', 'p_Eratio', 'p_f1', 'p_f3', 'p_Rhad',\n",
    "        'p_Rhad1', 'p_deltaEta1', 'p_deltaPhiRescaled2', 'p_TRTPID',\n",
    "        'p_TRTTrackOccupancy', 'p_numberOfInnermostPixelHits',\n",
    "        'p_numberOfPixelHits', 'p_numberOfSCTHits', 'p_numberOfTRTHits',\n",
    "        'p_numberOfTRTXenonHits', 'p_chi2', 'p_ndof', 'p_SharedMuonTrack',\n",
    "        'p_E7x7_Lr2', 'p_E7x7_Lr3', 'p_E_Lr0_HiG', 'p_E_Lr0_LowG',\n",
    "        'p_E_Lr0_MedG', 'p_E_Lr1_HiG', 'p_E_Lr1_LowG', 'p_E_Lr1_MedG',\n",
    "        'p_E_Lr2_HiG', 'p_E_Lr2_LowG', 'p_E_Lr2_MedG', 'p_E_Lr3_HiG',\n",
    "        'p_E_Lr3_LowG', 'p_E_Lr3_MedG', 'p_ambiguityType', 'p_asy1',\n",
    "        'p_author', 'p_barys1', 'p_core57cellsEnergyCorrection', 'p_deltaEta0',\n",
    "        'p_deltaEta2', 'p_deltaEta3', 'p_deltaPhi0', 'p_deltaPhi1',\n",
    "        'p_deltaPhi2', 'p_deltaPhi3', 'p_deltaPhiFromLastMeasurement',\n",
    "        'p_deltaPhiRescaled0', 'p_deltaPhiRescaled1', 'p_deltaPhiRescaled3',\n",
    "        'p_e1152', 'p_e132', 'p_e235', 'p_e255', 'p_e2ts1', 'p_ecore',\n",
    "        'p_emins1', 'p_etconeCorrBitset', 'p_ethad', 'p_ethad1', 'p_f1core',\n",
    "        'p_f3core', 'p_maxEcell_energy', 'p_maxEcell_gain', 'p_maxEcell_time',\n",
    "        'p_maxEcell_x', 'p_maxEcell_y', 'p_maxEcell_z', 'p_nCells_Lr0_HiG',\n",
    "        'p_nCells_Lr0_LowG', 'p_nCells_Lr0_MedG', 'p_nCells_Lr1_HiG',\n",
    "        'p_nCells_Lr1_LowG', 'p_nCells_Lr1_MedG', 'p_nCells_Lr2_HiG',\n",
    "        'p_nCells_Lr2_LowG', 'p_nCells_Lr2_MedG', 'p_nCells_Lr3_HiG',\n",
    "        'p_nCells_Lr3_LowG', 'p_nCells_Lr3_MedG', 'p_pos', 'p_pos7',\n",
    "        'p_poscs1', 'p_poscs2', 'p_ptconeCorrBitset',\n",
    "        'p_ptconecoreTrackPtrCorrection', 'p_r33over37allcalo',\n",
    "        'p_topoetconeCorrBitset', 'p_topoetconecoreConeEnergyCorrection',\n",
    "        'p_topoetconecoreConeSCEnergyCorrection', 'p_weta1', 'p_widths1',\n",
    "        'p_widths2', 'p_wtots1', 'p_e233', 'p_e237', 'p_e277', 'p_e2tsts1',\n",
    "        'p_ehad1', 'p_emaxs1', 'p_fracs1', 'p_DeltaE', 'p_E3x5_Lr0',\n",
    "        'p_E3x5_Lr1', 'p_E3x5_Lr2', 'p_E3x5_Lr3', 'p_E5x7_Lr0', 'p_E5x7_Lr1',\n",
    "        'p_E5x7_Lr2', 'p_E5x7_Lr3', 'p_E7x11_Lr0', 'p_E7x11_Lr1',\n",
    "        'p_E7x11_Lr2', 'p_E7x11_Lr3', 'p_E7x7_Lr0', 'p_E7x7_Lr1'\n",
    "    ]\n",
    "\n",
    "train_variables = electrons[all_variables]\n",
    "train_energy = electrons['p_truth_E']\n",
    "train_class = electrons['Truth']\n",
    "\n",
    "#scale data\n",
    "transformer = RobustScaler().fit(train_variables)\n",
    "train_variables = pd.DataFrame(transformer.transform(train_variables), columns=train_variables.columns\n",
    ")"
   ]
  },
  {
   "cell_type": "markdown",
   "id": "1fc50816",
   "metadata": {},
   "source": [
    "# Regression\n",
    "\n",
    "### Decision tree (LightGBM)"
   ]
  },
  {
   "cell_type": "code",
   "execution_count": 3,
   "id": "6a111a54",
   "metadata": {},
   "outputs": [],
   "source": [
    "#define model\n",
    "import lightgbm as lgb\n",
    "reg = lgb.LGBMRegressor(objective='regression', metric='mape', force_col_wise=True)"
   ]
  },
  {
   "cell_type": "code",
   "execution_count": 4,
   "id": "3c101774",
   "metadata": {},
   "outputs": [],
   "source": [
    "#define error function\n",
    "def mape(pred, true):\n",
    "    diffs = abs((true-pred)/true)\n",
    "    \n",
    "    return (sum(diffs))/len(pred)"
   ]
  },
  {
   "cell_type": "code",
   "execution_count": 5,
   "id": "a88fbb53",
   "metadata": {},
   "outputs": [],
   "source": [
    "#split data intro training and validation\n",
    "x_train, x_val, y_train, y_val = train_test_split(train_variables, train_energy, test_size=0.3, random_state=42)"
   ]
  },
  {
   "cell_type": "code",
   "execution_count": 6,
   "id": "43cb4584",
   "metadata": {},
   "outputs": [],
   "source": [
    "#hyperparameter search\n",
    "from sklearn.model_selection import RandomizedSearchCV\n",
    "from scipy.stats import randint\n",
    "\n",
    "search_params = {'num_leaves':randint(1,150), 'max_depth':randint(1,50), 'min_child_samples':randint(1,100)}\n",
    "\n",
    "random_search = RandomizedSearchCV(reg, search_params, n_iter=60, cv=2, return_train_score=True, random_state=42, n_jobs=-1)\n",
    "random_search.fit(x_train, y_train)\n",
    "\n",
    "print('Best parameters: ', random_search.best_params_ , 'Best score: ', random_search.best_score_)"
   ]
  },
  {
   "cell_type": "code",
   "execution_count": 7,
   "id": "0f83ad56",
   "metadata": {},
   "outputs": [
    {
     "name": "stdout",
     "output_type": "stream",
     "text": [
      "LightGBM Model MAPE: 0.0681402161587954\n"
     ]
    }
   ],
   "source": [
    "#train optimized model\n",
    "reg_opt = lgb.LGBMRegressor(objective='regression', metric='mape', force_col_wise=True, num_leaves=33, max_depth=35, min_child_samples=35)\n",
    "reg_opt.fit(x_train, y_train)\n",
    "y_pred = reg_opt.predict(x_val)\n",
    "error = mape(y_pred, y_val)\n",
    "print('LightGBM Model MAPE:',error)"
   ]
  },
  {
   "cell_type": "code",
   "execution_count": 8,
   "id": "aec4377d",
   "metadata": {},
   "outputs": [
    {
     "data": {
      "image/png": "[encoded data removed]",
      "text/plain": [
       "<Figure size 720x720 with 1 Axes>"
      ]
     },
     "metadata": {
      "needs_background": "light"
     },
     "output_type": "display_data"
    }
   ],
   "source": [
    "#Built in feature importance (best 15 features)\n",
    "ax = lgb.plot_importance(reg_opt, max_num_features=15, figsize=(10,10))\n",
    "plt.show()"
   ]
  },
  {
   "cell_type": "code",
   "execution_count": 8,
   "id": "1b8487df",
   "metadata": {},
   "outputs": [
    {
     "data": {
      "image/png": "[encoded data removed]",
      "text/plain": [
       "<Figure size 576x540 with 1 Axes>"
      ]
     },
     "metadata": {
      "needs_background": "light"
     },
     "output_type": "display_data"
    }
   ],
   "source": [
    "#feature importance using SHAP (best 15 variables)\n",
    "import shap\n",
    "explainer = shap.TreeExplainer(reg_opt)\n",
    "shap_values = explainer.shap_values(x_val)\n",
    "shap.summary_plot(shap_values, x_val, plot_type=\"bar\", max_display=15)"
   ]
  },
  {
   "cell_type": "code",
   "execution_count": null,
   "id": "793fa667",
   "metadata": {},
   "outputs": [],
   "source": [
    "#get list of 15 best feature names (from SHAP)\n",
    "vals = np.abs(shap_values).mean(0)\n",
    "feature_importance = pd.DataFrame(list(zip(x_train.columns, vals)), columns=['Feature name','Feature importance'])\n",
    "feature_importance.sort_values(by=['Feature importance'], ascending=False,inplace=True)\n",
    "best_features = list(feature_importance['Feature name'][:15])"
   ]
  },
  {
   "cell_type": "code",
   "execution_count": 11,
   "id": "0772d606",
   "metadata": {},
   "outputs": [],
   "source": [
    "#define new train variables after feature importance\n",
    "opt_train_variables = electrons[best_features]\n",
    "x_train_opt, x_val_opt, y_train_opt, y_val_opt = train_test_split(opt_train_variables, train_energy, test_size=0.3, random_state=42)"
   ]
  },
  {
   "cell_type": "code",
   "execution_count": 12,
   "id": "c244d17e",
   "metadata": {},
   "outputs": [],
   "source": [
    "#hyperparameter search w/ only 15 features\n",
    "search_params = {'num_leaves':randint(1,150), 'max_depth':randint(1,50), 'min_child_samples':randint(1,100)}\n",
    "\n",
    "random_search = RandomizedSearchCV(reg_opt, search_params, n_iter=60, cv=2, return_train_score=True, random_state=42)\n",
    "random_search.fit(x_train_opt, y_train_opt)\n",
    "\n",
    "print('Best parameters: ', random_search.best_params_ , 'Best score: ', random_search.best_score_)"
   ]
  },
  {
   "cell_type": "code",
   "execution_count": 13,
   "id": "fd431974",
   "metadata": {},
   "outputs": [
    {
     "name": "stdout",
     "output_type": "stream",
     "text": [
      "LightGBM Model MAPE: 0.07083127486173846\n"
     ]
    }
   ],
   "source": [
    "#get validation accuracy on final optimized model\n",
    "reg_opt_opt = lgb.LGBMRegressor(objective='regression', metric='mape', force_col_wise=True, num_leaves=15, max_depth=31, min_child_samples=48)\n",
    "reg_opt_opt.fit(x_train_opt, y_train_opt)\n",
    "y_pred=reg_opt_opt.predict(x_val_opt)\n",
    "error = mape(y_pred, y_val)\n",
    "print('LightGBM Model MAPE:',error)"
   ]
  },
  {
   "cell_type": "markdown",
   "id": "3ac6defa",
   "metadata": {},
   "source": [
    "# Test data"
   ]
  },
  {
   "cell_type": "code",
   "execution_count": 14,
   "id": "71a8ff96",
   "metadata": {},
   "outputs": [],
   "source": [
    "#load test set\n",
    "test = load_data('test')\n",
    "test_variables = test[best_features]\n",
    "\n",
    "#scale test data\n",
    "transformer = RobustScaler().fit(test_variables)\n",
    "test_variables = pd.DataFrame(transformer.transform(test_variables), columns=test_variables.columns\n",
    ")"
   ]
  },
  {
   "cell_type": "code",
   "execution_count": 17,
   "id": "f918e3da",
   "metadata": {},
   "outputs": [],
   "source": [
    "#use model on test data\n",
    "y_pred = pd.DataFrame(reg_opt_opt.predict(test_variables))\n",
    "\n",
    "#export to csv\n",
    "# y_pred.to_csv('predicted_energies_lightGBM.csv', header=False)"
   ]
  }
 ],
 "metadata": {
  "kernelspec": {
   "display_name": "Python 3 (ipykernel)",
   "language": "python",
   "name": "python3"
  },
  "language_info": {
   "codemirror_mode": {
    "name": "ipython",
    "version": 3
   },
   "file_extension": ".py",
   "mimetype": "text/x-python",
   "name": "python",
   "nbconvert_exporter": "python",
   "pygments_lexer": "ipython3",
   "version": "3.7.1"
  }
 },
 "nbformat": 4,
 "nbformat_minor": 5
}
